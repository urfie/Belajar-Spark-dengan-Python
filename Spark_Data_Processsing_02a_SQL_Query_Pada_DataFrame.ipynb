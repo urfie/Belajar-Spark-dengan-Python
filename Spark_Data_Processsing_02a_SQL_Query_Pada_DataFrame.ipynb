{
  "nbformat": 4,
  "nbformat_minor": 0,
  "metadata": {
    "colab": {
      "provenance": []
    },
    "kernelspec": {
      "name": "python3",
      "display_name": "Python 3"
    },
    "language_info": {
      "name": "python"
    }
  },
  "cells": [
    {
      "cell_type": "markdown",
      "source": [
        "SQL adalah salah satu bahasa populer untuk pemrosesan dan analisis data. Spark mendukung SQL untuk memproses DataFrame. \n",
        "\n",
        "Kita akan menggunakan data yang sama dengan yg digunakan pada bab eksplorasi DataFrame.\n"
      ],
      "metadata": {
        "id": "vJbZRSkkTnAw"
      }
    },
    {
      "cell_type": "code",
      "metadata": {
        "id": "xyqGzlLOuBpV",
        "outputId": "cf239859-4079-43ad-e484-e6489e7183b1",
        "colab": {
          "base_uri": "https://localhost:8080/"
        }
      },
      "source": [
        "%pip install pyspark"
      ],
      "execution_count": null,
      "outputs": [
        {
          "output_type": "stream",
          "name": "stdout",
          "text": [
            "Looking in indexes: https://pypi.org/simple, https://us-python.pkg.dev/colab-wheels/public/simple/\n",
            "Collecting pyspark\n",
            "  Downloading pyspark-3.3.2.tar.gz (281.4 MB)\n",
            "\u001b[2K     \u001b[90m━━━━━━━━━━━━━━━━━━━━━━━━━━━━━━━━━━━━━━━\u001b[0m \u001b[32m281.4/281.4 MB\u001b[0m \u001b[31m5.1 MB/s\u001b[0m eta \u001b[36m0:00:00\u001b[0m\n",
            "\u001b[?25h  Preparing metadata (setup.py) ... \u001b[?25l\u001b[?25hdone\n",
            "Collecting py4j==0.10.9.5\n",
            "  Downloading py4j-0.10.9.5-py2.py3-none-any.whl (199 kB)\n",
            "\u001b[2K     \u001b[90m━━━━━━━━━━━━━━━━━━━━━━━━━━━━━━━━━━━━━━\u001b[0m \u001b[32m199.7/199.7 KB\u001b[0m \u001b[31m15.3 MB/s\u001b[0m eta \u001b[36m0:00:00\u001b[0m\n",
            "\u001b[?25hBuilding wheels for collected packages: pyspark\n",
            "  Building wheel for pyspark (setup.py) ... \u001b[?25l\u001b[?25hdone\n",
            "  Created wheel for pyspark: filename=pyspark-3.3.2-py2.py3-none-any.whl size=281824025 sha256=3b59244c1b16e6f09f1b844a839c9094eded7800a5bf1ede79d3b90e9f244bff\n",
            "  Stored in directory: /root/.cache/pip/wheels/b1/59/a0/a1a0624b5e865fd389919c1a10f53aec9b12195d6747710baf\n",
            "Successfully built pyspark\n",
            "Installing collected packages: py4j, pyspark\n",
            "Successfully installed py4j-0.10.9.5 pyspark-3.3.2\n"
          ]
        }
      ]
    },
    {
      "cell_type": "code",
      "metadata": {
        "id": "qJDNbI5gti9B"
      },
      "source": [
        "import pyspark\n",
        "from pyspark.sql import SparkSession\n",
        "from pyspark.sql import functions as F"
      ],
      "execution_count": null,
      "outputs": []
    },
    {
      "cell_type": "markdown",
      "source": [
        "Inisialisasi spark session untuk berinteraksi dengan Spark cluster"
      ],
      "metadata": {
        "id": "HgEv2iNhTitC"
      }
    },
    {
      "cell_type": "code",
      "metadata": {
        "id": "Hnxed8rpt5Xs"
      },
      "source": [
        "spark = SparkSession.builder.appName('DataFrame Basics').getOrCreate()"
      ],
      "execution_count": null,
      "outputs": []
    },
    {
      "cell_type": "markdown",
      "source": [
        "Download dataset"
      ],
      "metadata": {
        "id": "iHGCn-voUTzn"
      }
    },
    {
      "cell_type": "code",
      "source": [
        "!wget https://www.dropbox.com/s/4ozzaa2yvy2kkza/indonesia2013-2015.csv"
      ],
      "metadata": {
        "colab": {
          "base_uri": "https://localhost:8080/"
        },
        "id": "PQTqnwezHtSq",
        "outputId": "e8143b5b-cabe-4641-ca8f-5f3a5fb58132"
      },
      "execution_count": null,
      "outputs": [
        {
          "output_type": "stream",
          "name": "stdout",
          "text": [
            "--2023-02-23 02:35:30--  https://www.dropbox.com/s/4ozzaa2yvy2kkza/indonesia2013-2015.csv\n",
            "Resolving www.dropbox.com (www.dropbox.com)... 162.125.3.18, 2620:100:6018:18::a27d:312\n",
            "Connecting to www.dropbox.com (www.dropbox.com)|162.125.3.18|:443... connected.\n",
            "HTTP request sent, awaiting response... 302 Found\n",
            "Location: /s/raw/4ozzaa2yvy2kkza/indonesia2013-2015.csv [following]\n",
            "--2023-02-23 02:35:30--  https://www.dropbox.com/s/raw/4ozzaa2yvy2kkza/indonesia2013-2015.csv\n",
            "Reusing existing connection to www.dropbox.com:443.\n",
            "HTTP request sent, awaiting response... 302 Found\n",
            "Location: https://ucb63717a654a7a8eedbf72fe3fc.dl.dropboxusercontent.com/cd/0/inline/B3AGZKEg431lsP5O07uIuZL4WK_Eb2Dr6oLsMWOF-Y8iJE0GpRJK82iMnR75bcMI59b1S8F07iJtGYAUAcC8yzfzUcyuXzpFb2gcEFpzr981KFSM9tP6zeqAao3418bjmI6-8VaX0u577txrVH-ZUhoEkqxKW1smJfDCwiresMVDMg/file# [following]\n",
            "--2023-02-23 02:35:31--  https://ucb63717a654a7a8eedbf72fe3fc.dl.dropboxusercontent.com/cd/0/inline/B3AGZKEg431lsP5O07uIuZL4WK_Eb2Dr6oLsMWOF-Y8iJE0GpRJK82iMnR75bcMI59b1S8F07iJtGYAUAcC8yzfzUcyuXzpFb2gcEFpzr981KFSM9tP6zeqAao3418bjmI6-8VaX0u577txrVH-ZUhoEkqxKW1smJfDCwiresMVDMg/file\n",
            "Resolving ucb63717a654a7a8eedbf72fe3fc.dl.dropboxusercontent.com (ucb63717a654a7a8eedbf72fe3fc.dl.dropboxusercontent.com)... 162.125.3.15, 2620:100:6018:15::a27d:30f\n",
            "Connecting to ucb63717a654a7a8eedbf72fe3fc.dl.dropboxusercontent.com (ucb63717a654a7a8eedbf72fe3fc.dl.dropboxusercontent.com)|162.125.3.15|:443... connected.\n",
            "HTTP request sent, awaiting response... 200 OK\n",
            "Length: 2771 (2.7K) [text/plain]\n",
            "Saving to: ‘indonesia2013-2015.csv’\n",
            "\n",
            "indonesia2013-2015. 100%[===================>]   2.71K  --.-KB/s    in 0s      \n",
            "\n",
            "2023-02-23 02:35:31 (646 MB/s) - ‘indonesia2013-2015.csv’ saved [2771/2771]\n",
            "\n"
          ]
        }
      ]
    },
    {
      "cell_type": "markdown",
      "source": [
        "Load ke dataframe"
      ],
      "metadata": {
        "id": "-vEl7qY6UV4Y"
      }
    },
    {
      "cell_type": "code",
      "source": [
        "df = spark.read.csv(\"indonesia2013-2015.csv\",header=True,inferSchema=True)"
      ],
      "metadata": {
        "id": "ArREYTQWHy3J"
      },
      "execution_count": null,
      "outputs": []
    },
    {
      "cell_type": "markdown",
      "source": [
        "Sebelum menggunakan SQL, kita perlu membuat temporary table dari dataframe yang akan kita olah.\n",
        "\n",
        "Gunakan fungsi `createOrReplaceTempView(nama_tabel)` pada dataframe tersebut."
      ],
      "metadata": {
        "id": "lvgyM2iKUYS9"
      }
    },
    {
      "cell_type": "code",
      "source": [
        "df.createOrReplaceTempView(\"penduduk\")"
      ],
      "metadata": {
        "id": "29qI_YUJnF_N"
      },
      "execution_count": null,
      "outputs": []
    },
    {
      "cell_type": "markdown",
      "source": [
        "Selanjutnya kita bisa menggunakan nama tabel yang sudah kita definisikan dalam SQL statement.\n",
        "\n",
        "Untuk mengeksekusi SQL statement, kita gunakan fungsi `sql(sqlstatement)` pada spark session."
      ],
      "metadata": {
        "id": "xuijaPcEUz3g"
      }
    },
    {
      "cell_type": "code",
      "source": [
        "spark.sql(\"select count(*) from penduduk\").show()"
      ],
      "metadata": {
        "colab": {
          "base_uri": "https://localhost:8080/"
        },
        "id": "mEZWLQbtnIHX",
        "outputId": "39625af0-8e64-4df4-efaa-28c77ac13f52"
      },
      "execution_count": null,
      "outputs": [
        {
          "output_type": "stream",
          "name": "stdout",
          "text": [
            "+--------+\n",
            "|count(1)|\n",
            "+--------+\n",
            "|     102|\n",
            "+--------+\n",
            "\n"
          ]
        }
      ]
    },
    {
      "cell_type": "code",
      "source": [
        "spark.sql(\"select * from penduduk limit 5\").show()"
      ],
      "metadata": {
        "colab": {
          "base_uri": "https://localhost:8080/"
        },
        "id": "6fLoE47EnMtP",
        "outputId": "84ffd190-126a-48cc-fdb8-6b6594f3d66a"
      },
      "execution_count": null,
      "outputs": [
        {
          "output_type": "stream",
          "name": "stdout",
          "text": [
            "+--------------+----+-------+--------+\n",
            "|      province|year|density|timezone|\n",
            "+--------------+----+-------+--------+\n",
            "|          ACEH|2015|     86|     WIB|\n",
            "|SUMATERA UTARA|2015|    191|     WIB|\n",
            "|SUMATERA BARAT|2015|    124|     WIB|\n",
            "|          RIAU|2015|     73|     WIB|\n",
            "|         JAMBI|2015|     68|     WIB|\n",
            "+--------------+----+-------+--------+\n",
            "\n"
          ]
        }
      ]
    },
    {
      "cell_type": "code",
      "source": [
        "spark.sql(\"\"\"select *, \n",
        "     CASE \n",
        "      WHEN timezone == 'WIT' THEN 1\n",
        "      WHEN timezone == 'WITA' THEN 2\n",
        "      ELSE 3 \n",
        "     END as kode_timezone  \n",
        "     from penduduk limit 5\"\"\").show()"
      ],
      "metadata": {
        "colab": {
          "base_uri": "https://localhost:8080/"
        },
        "id": "IkuuNd0ynWll",
        "outputId": "0c269e3c-029e-41c8-884c-b483ddf3f1fd"
      },
      "execution_count": null,
      "outputs": [
        {
          "output_type": "stream",
          "name": "stdout",
          "text": [
            "+--------------+----+-------+--------+-------------+\n",
            "|      province|year|density|timezone|kode_timezone|\n",
            "+--------------+----+-------+--------+-------------+\n",
            "|          ACEH|2015|     86|     WIB|            3|\n",
            "|SUMATERA UTARA|2015|    191|     WIB|            3|\n",
            "|SUMATERA BARAT|2015|    124|     WIB|            3|\n",
            "|          RIAU|2015|     73|     WIB|            3|\n",
            "|         JAMBI|2015|     68|     WIB|            3|\n",
            "+--------------+----+-------+--------+-------------+\n",
            "\n"
          ]
        }
      ]
    }
  ]
}