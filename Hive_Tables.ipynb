{
  "nbformat": 4,
  "nbformat_minor": 0,
  "metadata": {
    "colab": {
      "provenance": []
    },
    "kernelspec": {
      "name": "python3",
      "display_name": "Python 3"
    },
    "language_info": {
      "name": "python"
    }
  },
  "cells": [
    {
      "cell_type": "markdown",
      "source": [
        "#Belajar Pyspark - Dataframe View dan SQL"
      ],
      "metadata": {
        "id": "loueMJbfjlZq"
      }
    },
    {
      "cell_type": "markdown",
      "source": [
        "Dalam notebook ini kita akan belajar mengenai cara membuat temporary view dan menjalankan SQL query menggunakan view tersebut."
      ],
      "metadata": {
        "id": "8fBObxkEIMTP"
      }
    },
    {
      "cell_type": "code",
      "execution_count": 1,
      "metadata": {
        "colab": {
          "base_uri": "https://localhost:8080/"
        },
        "id": "3YsxlynyFZ0N",
        "outputId": "2467c17a-7f2c-4677-96d8-db5c0f11d3d4"
      },
      "outputs": [
        {
          "output_type": "stream",
          "name": "stdout",
          "text": [
            "Collecting pyspark\n",
            "  Downloading pyspark-3.5.0.tar.gz (316.9 MB)\n",
            "\u001b[2K     \u001b[90m━━━━━━━━━━━━━━━━━━━━━━━━━━━━━━━━━━━━━━━\u001b[0m \u001b[32m316.9/316.9 MB\u001b[0m \u001b[31m4.0 MB/s\u001b[0m eta \u001b[36m0:00:00\u001b[0m\n",
            "\u001b[?25h  Preparing metadata (setup.py) ... \u001b[?25l\u001b[?25hdone\n",
            "Requirement already satisfied: py4j==0.10.9.7 in /usr/local/lib/python3.10/dist-packages (from pyspark) (0.10.9.7)\n",
            "Building wheels for collected packages: pyspark\n",
            "  Building wheel for pyspark (setup.py) ... \u001b[?25l\u001b[?25hdone\n",
            "  Created wheel for pyspark: filename=pyspark-3.5.0-py2.py3-none-any.whl size=317425344 sha256=ee8a878400d5d3725b6102f5624672caee7bf0604aa065400e6509b7726f1acb\n",
            "  Stored in directory: /root/.cache/pip/wheels/41/4e/10/c2cf2467f71c678cfc8a6b9ac9241e5e44a01940da8fbb17fc\n",
            "Successfully built pyspark\n",
            "Installing collected packages: pyspark\n",
            "Successfully installed pyspark-3.5.0\n"
          ]
        }
      ],
      "source": [
        "%pip install pyspark"
      ]
    },
    {
      "cell_type": "code",
      "source": [
        "from pyspark.sql import SparkSession\n",
        "import pyspark.sql.functions as F\n"
      ],
      "metadata": {
        "id": "8V4lQvx6HIiO"
      },
      "execution_count": 2,
      "outputs": []
    },
    {
      "cell_type": "code",
      "source": [
        "spark = SparkSession.builder.appName(\"Belajar PySpark - Temp View & SQL\").enableHiveSupport().getOrCreate()"
      ],
      "metadata": {
        "id": "97aBSg6dGu9V"
      },
      "execution_count": 3,
      "outputs": []
    },
    {
      "cell_type": "markdown",
      "source": [
        "Sebelumnya kita buat DataFrame dari sebuah python list, lalu kita akan lakukan transformasi terhadap DataFrame tersebut.\n"
      ],
      "metadata": {
        "id": "ySN3f0_wIPTe"
      }
    },
    {
      "cell_type": "code",
      "source": [
        "data = [['Agus','F',100,150,150],['Windy','F',200,150,180],\n",
        "        ['Budi','B',200,100,150],['Dina','F',150,150,130],\n",
        "        ['Bayu','F',50,150,100],['Dedi','B',50,100,100]]\n",
        "\n",
        "kolom = [\"nama\",\"kode_jurusan\",\"nilai1\",\"nilai2\",\"nilai3\"]\n",
        "\n",
        "df = spark.createDataFrame(data,kolom)\n",
        "\n",
        "df.show()"
      ],
      "metadata": {
        "colab": {
          "base_uri": "https://localhost:8080/"
        },
        "id": "KUXGwHVdFfB2",
        "outputId": "619cf3a3-b501-42df-f166-00a6d1127c4d"
      },
      "execution_count": 5,
      "outputs": [
        {
          "output_type": "stream",
          "name": "stdout",
          "text": [
            "+-----+------------+------+------+------+\n",
            "| nama|kode_jurusan|nilai1|nilai2|nilai3|\n",
            "+-----+------------+------+------+------+\n",
            "| Agus|           F|   100|   150|   150|\n",
            "|Windy|           F|   200|   150|   180|\n",
            "| Budi|           B|   200|   100|   150|\n",
            "| Dina|           F|   150|   150|   130|\n",
            "| Bayu|           F|    50|   150|   100|\n",
            "| Dedi|           B|    50|   100|   100|\n",
            "+-----+------------+------+------+------+\n",
            "\n"
          ]
        }
      ]
    },
    {
      "cell_type": "markdown",
      "source": [
        "##Menyimpan tabel"
      ],
      "metadata": {
        "id": "vDwLvVSXr5PR"
      }
    },
    {
      "cell_type": "code",
      "source": [
        "spark.sql(\"CREATE DATABASE mytest\")"
      ],
      "metadata": {
        "id": "ccZArhZW5kK4",
        "colab": {
          "base_uri": "https://localhost:8080/"
        },
        "outputId": "3f58d380-c7b7-4176-fe72-a327917ea771"
      },
      "execution_count": 6,
      "outputs": [
        {
          "output_type": "execute_result",
          "data": {
            "text/plain": [
              "DataFrame[]"
            ]
          },
          "metadata": {},
          "execution_count": 6
        }
      ]
    },
    {
      "cell_type": "code",
      "source": [
        "df.write.mode('overwrite') \\\n",
        "         .saveAsTable(\"mytest.mahasiswa\")"
      ],
      "metadata": {
        "id": "1NAD_6c_sAf2"
      },
      "execution_count": 7,
      "outputs": []
    },
    {
      "cell_type": "code",
      "source": [
        "!wget https://github.com/apache/spark/raw/master/examples/src/main/resources/users.parquet"
      ],
      "metadata": {
        "colab": {
          "base_uri": "https://localhost:8080/"
        },
        "id": "ddpx7dK1K3zn",
        "outputId": "e887e0d9-1bc8-4cba-ea26-6e2370c0453b"
      },
      "execution_count": 13,
      "outputs": [
        {
          "output_type": "stream",
          "name": "stdout",
          "text": [
            "--2023-09-29 09:07:35--  https://github.com/apache/spark/raw/master/examples/src/main/resources/users.parquet\n",
            "Resolving github.com (github.com)... 140.82.112.3\n",
            "Connecting to github.com (github.com)|140.82.112.3|:443... connected.\n",
            "HTTP request sent, awaiting response... 302 Found\n",
            "Location: https://raw.githubusercontent.com/apache/spark/master/examples/src/main/resources/users.parquet [following]\n",
            "--2023-09-29 09:07:35--  https://raw.githubusercontent.com/apache/spark/master/examples/src/main/resources/users.parquet\n",
            "Resolving raw.githubusercontent.com (raw.githubusercontent.com)... 185.199.108.133, 185.199.109.133, 185.199.110.133, ...\n",
            "Connecting to raw.githubusercontent.com (raw.githubusercontent.com)|185.199.108.133|:443... connected.\n",
            "HTTP request sent, awaiting response... 200 OK\n",
            "Length: 615 [application/octet-stream]\n",
            "Saving to: ‘users.parquet’\n",
            "\n",
            "\rusers.parquet         0%[                    ]       0  --.-KB/s               \rusers.parquet       100%[===================>]     615  --.-KB/s    in 0s      \n",
            "\n",
            "2023-09-29 09:07:35 (37.4 MB/s) - ‘users.parquet’ saved [615/615]\n",
            "\n"
          ]
        }
      ]
    },
    {
      "cell_type": "code",
      "source": [
        "df1 = spark.read.load(\"users.parquet\")\n",
        "df1.select(\"name\", \"favorite_color\").write.save(\"namesAndFavColors.parquet\")"
      ],
      "metadata": {
        "id": "yfq62TKoKXmZ"
      },
      "execution_count": null,
      "outputs": []
    },
    {
      "cell_type": "code",
      "source": [],
      "metadata": {
        "id": "S59sF0YhMyeT"
      },
      "execution_count": null,
      "outputs": []
    }
  ]
}